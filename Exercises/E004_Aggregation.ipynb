{
 "cells": [
  {
   "cell_type": "markdown",
   "metadata": {},
   "source": [
    "## Exercises: Group and aggregate"
   ]
  },
  {
   "cell_type": "code",
   "execution_count": 3,
   "metadata": {},
   "outputs": [],
   "source": [
    "import pandas as pd\n",
    "import seaborn as sns\n",
    "titanic = sns.load_dataset(\"titanic\")"
   ]
  },
  {
   "cell_type": "markdown",
   "metadata": {},
   "source": [
    "**Use group by and aggregation on the \"titanic\" dataset to answer the following questions:**"
   ]
  },
  {
   "cell_type": "markdown",
   "metadata": {},
   "source": [
    "**Q1:** How many males and how many females were onboard titanic?\n",
    "\n",
    "<details>\n",
    "<summary>Answer</summary>\n",
    "<br>\n",
    "&nbsp;&nbsp;&nbsp;<b>males:</b> 577<br>\n",
    "&nbsp;&nbsp;&nbsp;<b>females:</b> 314<br>\n",
    "</details>"
   ]
  },
  {
   "cell_type": "code",
   "execution_count": null,
   "metadata": {},
   "outputs": [],
   "source": []
  },
  {
   "cell_type": "markdown",
   "metadata": {},
   "source": [
    "**Q2:** How many males and how many females survived?\n",
    "\n",
    "<details>\n",
    "<summary>Answer</summary>\n",
    "<br>\n",
    "&nbsp;&nbsp;&nbsp;<b>males:</b> 109<br>\n",
    "&nbsp;&nbsp;&nbsp;<b>females:</b> 233<br>\n",
    "</details>"
   ]
  },
  {
   "cell_type": "code",
   "execution_count": null,
   "metadata": {},
   "outputs": [],
   "source": []
  },
  {
   "cell_type": "markdown",
   "metadata": {},
   "source": [
    "**Q3:** How many people traveled in each class, and what was the total amount spent on tickets in each class?\n",
    "\n",
    "<details>\n",
    "<summary>Answer</summary>\n",
    "<br>\n",
    "&nbsp;&nbsp;&nbsp;<b>First:</b> 216 people (£18177)<br>\n",
    "&nbsp;&nbsp;&nbsp;<b>Second:</b> 184 people (£3802)<br>\n",
    "&nbsp;&nbsp;&nbsp;<b>Third:</b> 491 people (£6715)<br>\n",
    "</details>"
   ]
  },
  {
   "cell_type": "code",
   "execution_count": null,
   "metadata": {},
   "outputs": [],
   "source": []
  },
  {
   "cell_type": "markdown",
   "metadata": {},
   "source": [
    "**Q4:** Where did most people embark, and what town had the highest ratio of survivors?\n",
    "\n",
    "<details>\n",
    "<summary>Answer</summary>\n",
    "<br>\n",
    "&nbsp;&nbsp;&nbsp;Most people (644) embarked in Southampton.<br>\n",
    "&nbsp;&nbsp;&nbsp;However,Cherbourg had the highest ratio of survivors (55.4%).\n",
    "</details>"
   ]
  },
  {
   "cell_type": "code",
   "execution_count": null,
   "metadata": {},
   "outputs": [],
   "source": []
  },
  {
   "cell_type": "markdown",
   "metadata": {},
   "source": [
    "**Q5:** How many family members did survivors travel with on average? And for non-survivors?\n",
    "\n",
    "<details>\n",
    "<summary>Answer</summary>\n",
    "<br>\n",
    "&nbsp;&nbsp;&nbsp;<b>Survivors:</b> 0.94 family members<br>\n",
    "&nbsp;&nbsp;&nbsp;<b>Non-Survivors:</b> 0.88 family members<br><br>\n",
    "&nbsp;&nbsp;&nbsp;<i>* Family members counted as: sibsp + parch</i>\n",
    "</details>"
   ]
  },
  {
   "cell_type": "code",
   "execution_count": null,
   "metadata": {},
   "outputs": [],
   "source": []
  },
  {
   "cell_type": "markdown",
   "metadata": {},
   "source": [
    "**Use group by and aggregation on the \"titanic\" dataset to solve the following tasks:**"
   ]
  },
  {
   "cell_type": "markdown",
   "metadata": {},
   "source": [
    "**T1:** Extract the following data from the dataset:\n",
    "<!DOCTYPE html>\n",
    "<html>\n",
    "<body>\n",
    "\n",
    "<table style=\"font-family: Arial, sans-serif; border-collapse: collapse; width: 50%; font-size: 12px;\">\n",
    "  <tr>\n",
    "    <th style=\"border: none; text-align: right; padding: 8px; background-color: #f2f2f2; color: black;\"></th>\n",
    "    <th style=\"border: none; text-align: right; padding: 8px; background-color: #f2f2f2; color: black;\">who</th>\n",
    "    <th style=\"border: none; text-align: right; padding: 8px; background-color: #f2f2f2; color: black;\">number_of_passengers</th>\n",
    "    <th style=\"border: none; text-align: right; padding: 8px; background-color: #f2f2f2; color: black;\">number_of_survivors</th>\n",
    "    <th style=\"border: none; text-align: right; padding: 8px; background-color: #f2f2f2; color: black;\">ratio_survivors</th>\n",
    "  </tr>\n",
    "  <tr>\n",
    "    <td style=\"border: none; text-align: right; padding: 8px; color: black;\">0</td>\n",
    "    <td style=\"border: none; text-align: right; padding: 8px; color: black;\">woman</td>\n",
    "    <td style=\"border: none; text-align: right; padding: 8px; color: black;\">271</td>\n",
    "    <td style=\"border: none; text-align: right; padding: 8px; color: black;\">205</td>\n",
    "    <td style=\"border: none; text-align: right; padding: 8px; color: black;\">0.756458</td>\n",
    "  </tr>\n",
    "  <tr>\n",
    "    <td style=\"border: none; text-align: right; padding: 8px; color: black;\">1</td>\n",
    "    <td style=\"border: none; text-align: right; padding: 8px; color: black;\">man</td>\n",
    "    <td style=\"border: none; text-align: right; padding: 8px; color: black;\">537</td>\n",
    "    <td style=\"border: none; text-align: right; padding: 8px; color: black;\">88</td>\n",
    "    <td style=\"border: none; text-align: right; padding: 8px; color: black;\">0.163873</td>\n",
    "  </tr>\n",
    "  <tr>\n",
    "    <td style=\"border: none; text-align: right; padding: 8px; color: black;\">2</td>\n",
    "    <td style=\"border: none; text-align: right; padding: 8px; color: black;\">child</td>\n",
    "    <td style=\"border: none; text-align: right; padding: 8px; color: black;\">83</td>\n",
    "    <td style=\"border: none; text-align: right; padding: 8px; color: black;\">49</td>\n",
    "    <td style=\"border: none; text-align: right; padding: 8px; color: black;\">0.590361</td>\n",
    "  </tr>\n",
    "</table>\n",
    "\n",
    "</body>\n",
    "</html>\n",
    "<br>\n",
    "<details>\n",
    "<summary>Solution</summary>\n",
    "<pre><code>\n",
    "titanic.groupby(\"who\").aggregate(\n",
    "    number_of_passengers=pd.NamedAgg(column=\"survived\", aggfunc=\"count\"),\n",
    "    number_of_survivors=pd.NamedAgg(column=\"survived\", aggfunc=\"sum\"),\n",
    "    ratio_survivors=pd.NamedAgg(column=\"survived\", aggfunc=\"mean\"),\n",
    ").sort_index(ascending=False).reset_index()\n",
    "</code></pre>\n",
    "</details>"
   ]
  },
  {
   "cell_type": "code",
   "execution_count": null,
   "metadata": {},
   "outputs": [],
   "source": []
  },
  {
   "cell_type": "markdown",
   "metadata": {},
   "source": [
    "**T2:** Create a custom function *percent()* that can be used to aggregate survivor and get a percentage string:\n",
    "\n",
    "<!DOCTYPE html>\n",
    "<html>\n",
    "<body>\n",
    "\n",
    "<table style=\"font-family: Arial, sans-serif; border-collapse: collapse; width: 50%; font-size: 12px;\">\n",
    "  <tr>\n",
    "    <th style=\"border: none; text-align: right; padding: 8px; background-color: #f2f2f2; color: black;\"></th>\n",
    "    <th style=\"border: none; text-align: right; padding: 8px; background-color: #f2f2f2; color: black;\">who</th>\n",
    "    <th style=\"border: none; text-align: right; padding: 8px; background-color: #f2f2f2; color: black;\">number_of_passengers</th>\n",
    "    <th style=\"border: none; text-align: right; padding: 8px; background-color: #f2f2f2; color: black;\">number_of_survivors</th>\n",
    "    <th style=\"border: none; text-align: right; padding: 8px; background-color: #f2f2f2; color: black;\">percentage_survivors</th>\n",
    "  </tr>\n",
    "  <tr>\n",
    "    <td style=\"border: none; text-align: right; padding: 8px; color: black;\">0</td>\n",
    "    <td style=\"border: none; text-align: right; padding: 8px; color: black;\">woman</td>\n",
    "    <td style=\"border: none; text-align: right; padding: 8px; color: black;\">271</td>\n",
    "    <td style=\"border: none; text-align: right; padding: 8px; color: black;\">205</td>\n",
    "    <td style=\"border: none; text-align: right; padding: 8px; color: black;\">75.6 %</td>\n",
    "  </tr>\n",
    "  <tr>\n",
    "    <td style=\"border: none; text-align: right; padding: 8px; color: black;\">1</td>\n",
    "    <td style=\"border: none; text-align: right; padding: 8px; color: black;\">man</td>\n",
    "    <td style=\"border: none; text-align: right; padding: 8px; color: black;\">537</td>\n",
    "    <td style=\"border: none; text-align: right; padding: 8px; color: black;\">88</td>\n",
    "    <td style=\"border: none; text-align: right; padding: 8px; color: black;\">16.4 %</td>\n",
    "  </tr>\n",
    "  <tr>\n",
    "    <td style=\"border: none; text-align: right; padding: 8px; color: black;\">2</td>\n",
    "    <td style=\"border: none; text-align: right; padding: 8px; color: black;\">child</td>\n",
    "    <td style=\"border: none; text-align: right; padding: 8px; color: black;\">83</td>\n",
    "    <td style=\"border: none; text-align: right; padding: 8px; color: black;\">49</td>\n",
    "    <td style=\"border: none; text-align: right; padding: 8px; color: black;\">59.0 %</td>\n",
    "  </tr>\n",
    "</table>\n",
    "</body>\n",
    "</html>\n",
    "\n",
    "<br>\n",
    "<details>\n",
    "<summary>Solution</summary>\n",
    "<pre><code>\n",
    "import numpy as np\n",
    "def percent(col):\n",
    "    return f\"{np.mean(col) * 100:.1f} %\"\n",
    "</code></pre>\n",
    "</details>\n"
   ]
  },
  {
   "cell_type": "code",
   "execution_count": null,
   "metadata": {},
   "outputs": [],
   "source": []
  }
 ],
 "metadata": {
  "kernelspec": {
   "display_name": "Learning_Python-3NYKqp0N",
   "language": "python",
   "name": "python3"
  },
  "language_info": {
   "codemirror_mode": {
    "name": "ipython",
    "version": 3
   },
   "file_extension": ".py",
   "mimetype": "text/x-python",
   "name": "python",
   "nbconvert_exporter": "python",
   "pygments_lexer": "ipython3",
   "version": "3.11.5"
  }
 },
 "nbformat": 4,
 "nbformat_minor": 2
}
