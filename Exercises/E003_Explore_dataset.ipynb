{
 "cells": [
  {
   "cell_type": "markdown",
   "metadata": {},
   "source": [
    "## Exercises: Explore the dataset"
   ]
  },
  {
   "cell_type": "code",
   "execution_count": 14,
   "metadata": {},
   "outputs": [],
   "source": [
    "import pandas as pd\n",
    "import seaborn as sns\n",
    "taxis = sns.load_dataset(\"taxis\")"
   ]
  },
  {
   "cell_type": "markdown",
   "metadata": {},
   "source": [
    "**Explore the \"taxis\" dataset to answer the following questions:**"
   ]
  },
  {
   "cell_type": "markdown",
   "metadata": {},
   "source": [
    "**Q1:** How many rows and column are in the dataset?\n",
    "\n",
    "<details>\n",
    "<summary>Answer</summary>\n",
    "<br>\n",
    "&nbsp;&nbsp;&nbsp;<b>Rows:</b> 6433\n",
    "&nbsp;&nbsp;&nbsp;<b>Columns:</b> 14\n",
    "</details>"
   ]
  },
  {
   "cell_type": "code",
   "execution_count": null,
   "metadata": {},
   "outputs": [],
   "source": []
  },
  {
   "cell_type": "markdown",
   "metadata": {},
   "source": [
    "**Q2:** What datatype is the most common in the set?\n",
    "\n",
    "<details>\n",
    "<summary>Answer</summary>\n",
    "<br>\n",
    "&nbsp;&nbsp;&nbsp;object (6 columns)\n",
    "</details>"
   ]
  },
  {
   "cell_type": "code",
   "execution_count": null,
   "metadata": {},
   "outputs": [],
   "source": []
  },
  {
   "cell_type": "markdown",
   "metadata": {},
   "source": [
    "**Q3:** What is the average number of passengers in a taxi?\n",
    "\n",
    "<details>\n",
    "<summary>Answer</summary>\n",
    "<br>\n",
    "&nbsp;&nbsp;&nbsp;1.54\n",
    "</details>"
   ]
  },
  {
   "cell_type": "code",
   "execution_count": null,
   "metadata": {},
   "outputs": [],
   "source": []
  },
  {
   "cell_type": "markdown",
   "metadata": {},
   "source": [
    "**Q4:** What is the most common number of passengers in a taxi?\n",
    "\n",
    "<details>\n",
    "<summary>Answer</summary>\n",
    "<br>\n",
    "&nbsp;&nbsp;&nbsp;1\n",
    "</details>"
   ]
  },
  {
   "cell_type": "code",
   "execution_count": null,
   "metadata": {},
   "outputs": [],
   "source": []
  },
  {
   "cell_type": "markdown",
   "metadata": {},
   "source": [
    "**Q5:** What is the most common payment method?\n",
    "\n",
    "<details>\n",
    "<summary>Answer</summary>\n",
    "<br>\n",
    "&nbsp;&nbsp;&nbsp;credit card\n",
    "</details>"
   ]
  },
  {
   "cell_type": "code",
   "execution_count": null,
   "metadata": {},
   "outputs": [],
   "source": []
  },
  {
   "cell_type": "markdown",
   "metadata": {},
   "source": [
    "**Q6:** Which of the categorical features has the most categories?\n",
    "\n",
    "<details>\n",
    "<summary>Answer</summary>\n",
    "<br>\n",
    "&nbsp;&nbsp;&nbsp;dropoff_zone (203 categories)\n",
    "</details>"
   ]
  },
  {
   "cell_type": "code",
   "execution_count": null,
   "metadata": {},
   "outputs": [],
   "source": []
  },
  {
   "cell_type": "markdown",
   "metadata": {},
   "source": [
    "**Q7:** What percentage of cars in the set are yellow?\n",
    "\n",
    "<details>\n",
    "<summary>Answer</summary>\n",
    "<br>\n",
    "&nbsp;&nbsp;&nbsp;84.7%\n",
    "</details>"
   ]
  },
  {
   "cell_type": "code",
   "execution_count": null,
   "metadata": {},
   "outputs": [],
   "source": []
  },
  {
   "cell_type": "markdown",
   "metadata": {},
   "source": [
    "**Q8:** Which dropoff borough is most common? Which one is least common?\n",
    "\n",
    "<details>\n",
    "<summary>Answer</summary>\n",
    "<br>\n",
    "&nbsp;&nbsp;&nbsp;<b>Most common:</b> Manhattan (5206)<br>\n",
    "&nbsp;&nbsp;&nbsp;<b>Least common:</b> Staten Island (2)<br>\n",
    "</details>"
   ]
  },
  {
   "cell_type": "code",
   "execution_count": null,
   "metadata": {},
   "outputs": [],
   "source": []
  },
  {
   "cell_type": "markdown",
   "metadata": {},
   "source": [
    "**Q9:** Which column has the most missing values? How many?\n",
    "\n",
    "<details>\n",
    "<summary>Answer</summary>\n",
    "<br>\n",
    "&nbsp;&nbsp;&nbsp;<i>dropoff_zone</i> and <i>dropoff_borough</i> both have 45 missing values.\n",
    "</details>"
   ]
  },
  {
   "cell_type": "code",
   "execution_count": null,
   "metadata": {},
   "outputs": [],
   "source": []
  },
  {
   "cell_type": "markdown",
   "metadata": {},
   "source": [
    "### Memory usage\n",
    "``` taxis.info(memory_usage=\"deep\") ``` gives you the total memory usage of the dataframe.\n",
    "\n",
    "``` taxis.memory_usage(deep=True) ``` give you the total memory usage for each column.\n",
    "\n",
    "**Answer the following questions:**"
   ]
  },
  {
   "cell_type": "markdown",
   "metadata": {},
   "source": [
    "**Q10:** What is the total memory usage of the dataframe?\n",
    "\n",
    "<details>\n",
    "<summary>Answer</summary>\n",
    "<br>\n",
    "&nbsp;&nbsp;&nbsp;2.9 MB\n",
    "</details>"
   ]
  },
  {
   "cell_type": "code",
   "execution_count": null,
   "metadata": {},
   "outputs": [],
   "source": []
  },
  {
   "cell_type": "markdown",
   "metadata": {},
   "source": [
    "**Q11:** Which column takes up the most memory? How many kilobytes?\n",
    "\n",
    "<details>\n",
    "<summary>Answer</summary>\n",
    "<br>\n",
    "&nbsp;&nbsp;&nbsp;pickup_zone (470 KB)\n",
    "</details>"
   ]
  },
  {
   "cell_type": "code",
   "execution_count": null,
   "metadata": {},
   "outputs": [],
   "source": []
  },
  {
   "cell_type": "markdown",
   "metadata": {},
   "source": [
    "**Q12:** Why does the numeric columns all take up exactly 51464 bytes?\n",
    "\n",
    "<details>\n",
    "<summary>Answer</summary>\n",
    "<br>\n",
    "&nbsp;&nbsp;&nbsp;They all use 64 bit datatypes. 64 bits = 8 bytes. 6433 entries * 8 bytes = 51464 bytes.\n",
    "</details>"
   ]
  },
  {
   "cell_type": "code",
   "execution_count": null,
   "metadata": {},
   "outputs": [],
   "source": []
  },
  {
   "cell_type": "markdown",
   "metadata": {},
   "source": [
    "**Q13:** What is the total memory usage after converting all *object* columns to *category*?\n",
    "\n",
    "<details>\n",
    "<summary>Answer</summary>\n",
    "<br>\n",
    "&nbsp;&nbsp;&nbsp;494.0 KB\n",
    "</details>"
   ]
  },
  {
   "cell_type": "code",
   "execution_count": null,
   "metadata": {},
   "outputs": [],
   "source": []
  },
  {
   "cell_type": "markdown",
   "metadata": {},
   "source": [
    "**Q14:** ... and after also converting *float64* to *float32*?\n",
    "\n",
    "<details>\n",
    "<summary>Answer</summary>\n",
    "<br>\n",
    "&nbsp;&nbsp;&nbsp;368.4 KB\n",
    "</details>"
   ]
  },
  {
   "cell_type": "code",
   "execution_count": null,
   "metadata": {},
   "outputs": [],
   "source": []
  },
  {
   "cell_type": "markdown",
   "metadata": {},
   "source": [
    "**Q15:** What is the smallest datatype we can convert passengers to? What is the total memory usage after converting passengers to the new type?\n",
    "\n",
    "<details>\n",
    "<summary>Answer</summary>\n",
    "<br>\n",
    "&nbsp;&nbsp;&nbsp;The maximum number of passengers in the dataset are 6,<br> \n",
    "&nbsp;&nbsp;&nbsp;and therefore the values easily fit into the <i>int8</i> type (8 bit integer).<br>\n",
    "<br>\n",
    "&nbsp;&nbsp;&nbsp;New size: 324.4 KB\n",
    "</details>"
   ]
  },
  {
   "cell_type": "code",
   "execution_count": null,
   "metadata": {},
   "outputs": [],
   "source": []
  },
  {
   "cell_type": "markdown",
   "metadata": {},
   "source": [
    "**Q16:** How many percent of the orignal datasize is the new dataset after converting all the types as above?\n",
    "\n",
    "<details>\n",
    "<summary>Answer</summary>\n",
    "<br>\n",
    "&nbsp;&nbsp;&nbsp;11.0 %\n",
    "</details>"
   ]
  },
  {
   "cell_type": "markdown",
   "metadata": {},
   "source": [
    "### Final note:\n",
    "Just to be clear, if we want to limit our memory usage by specifying datatypes with a smaller memory footprint, it makes more sense to do so when loading the dataset in to pandas, than changing the type afterwards (as in the example above).\n",
    "\n",
    "Most common ways to load data into pandas (like pd.from_csv, pd.from_json etc) provides optional parameters for setting the datatype as the files are read into pandas dataframes.\n",
    "\n",
    "Also, note that this is really only a concern when working with huge sets of data. For smaller datasets, like the one in the example above, it doesn't really matter, and might be only unneccessary work to optimize. The above exercises just serve as examples to better understand data types and their memory footprints."
   ]
  }
 ],
 "metadata": {
  "kernelspec": {
   "display_name": "Databehandling-AI23-toKGAHu0",
   "language": "python",
   "name": "python3"
  },
  "language_info": {
   "codemirror_mode": {
    "name": "ipython",
    "version": 3
   },
   "file_extension": ".py",
   "mimetype": "text/x-python",
   "name": "python",
   "nbconvert_exporter": "python",
   "pygments_lexer": "ipython3",
   "version": "3.11.5"
  }
 },
 "nbformat": 4,
 "nbformat_minor": 2
}
