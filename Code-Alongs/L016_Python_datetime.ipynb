{
 "cells": [
  {
   "cell_type": "markdown",
   "metadata": {},
   "source": [
    "## Working with date and time in python"
   ]
  },
  {
   "cell_type": "markdown",
   "metadata": {},
   "source": [
    "### datetime"
   ]
  },
  {
   "cell_type": "code",
   "execution_count": 1,
   "metadata": {},
   "outputs": [],
   "source": [
    "from datetime import datetime, timedelta, date, time"
   ]
  },
  {
   "cell_type": "code",
   "execution_count": 2,
   "metadata": {},
   "outputs": [
    {
     "data": {
      "text/plain": [
       "datetime.datetime"
      ]
     },
     "execution_count": 2,
     "metadata": {},
     "output_type": "execute_result"
    }
   ],
   "source": [
    "now = datetime.now()\n",
    "type(now)"
   ]
  },
  {
   "cell_type": "code",
   "execution_count": 5,
   "metadata": {},
   "outputs": [
    {
     "name": "stdout",
     "output_type": "stream",
     "text": [
      "Now is 2023-11-10 09:07:13.109576\n",
      "now = datetime.datetime(2023, 11, 10, 9, 7, 13, 109576)\n"
     ]
    }
   ],
   "source": [
    "print(f\"Now is {now}\")\n",
    "print(f\"{now = }\")"
   ]
  },
  {
   "cell_type": "code",
   "execution_count": 27,
   "metadata": {},
   "outputs": [
    {
     "name": "stdout",
     "output_type": "stream",
     "text": [
      "now.year = 2023\n",
      "now.month = 11\n",
      "now.day = 10\n",
      "now.hour = 9\n",
      "now.minute = 7\n",
      "now.second = 13\n",
      "now.microsecond = 109576\n",
      "now.weekday() = 4\n",
      "now.isocalendar() = datetime.IsoCalendarDate(year=2023, week=45, weekday=5)\n"
     ]
    }
   ],
   "source": [
    "print(f\"{now.year = }\")\n",
    "print(f\"{now.month = }\")\n",
    "print(f\"{now.day = }\")\n",
    "print(f\"{now.hour = }\")\n",
    "print(f\"{now.minute = }\")\n",
    "print(f\"{now.second = }\")\n",
    "print(f\"{now.microsecond = }\")\n",
    "\n",
    "print(f\"{now.weekday() = }\")\n",
    "print(f\"{now.isocalendar() = }\")"
   ]
  },
  {
   "cell_type": "code",
   "execution_count": 12,
   "metadata": {},
   "outputs": [
    {
     "name": "stdout",
     "output_type": "stream",
     "text": [
      "now.strftime('%Y-%m-%d') = '2023-11-10'\n",
      "now.strftime('Today is a %A in %B') = 'Today is a Friday in November'\n"
     ]
    }
   ],
   "source": [
    "print(f\"{now.strftime('%Y-%m-%d') = }\")\n",
    "print(f\"{now.strftime('Today is a %A in %B') = }\")"
   ]
  },
  {
   "cell_type": "code",
   "execution_count": 22,
   "metadata": {},
   "outputs": [
    {
     "name": "stdout",
     "output_type": "stream",
     "text": [
      "2023-12-24 00:00:00\n"
     ]
    }
   ],
   "source": [
    "christmas = datetime(2023, 12, 24)\n",
    "print(christmas)"
   ]
  },
  {
   "cell_type": "code",
   "execution_count": 23,
   "metadata": {},
   "outputs": [
    {
     "name": "stdout",
     "output_type": "stream",
     "text": [
      "2024-01-01 00:00:00\n"
     ]
    }
   ],
   "source": [
    "new_year = \"2024-01-01\"\n",
    "next_year = datetime.strptime(new_year, \"%Y-%m-%d\")\n",
    "print(next_year)"
   ]
  },
  {
   "cell_type": "code",
   "execution_count": 30,
   "metadata": {},
   "outputs": [
    {
     "name": "stdout",
     "output_type": "stream",
     "text": [
      "2023-11-10\n",
      "09:07:13.109576\n"
     ]
    }
   ],
   "source": [
    "print(now.date())\n",
    "print(now.time())"
   ]
  },
  {
   "cell_type": "markdown",
   "metadata": {},
   "source": [
    "### Timedelta"
   ]
  },
  {
   "cell_type": "code",
   "execution_count": 31,
   "metadata": {},
   "outputs": [
    {
     "data": {
      "text/plain": [
       "datetime.timedelta"
      ]
     },
     "execution_count": 31,
     "metadata": {},
     "output_type": "execute_result"
    }
   ],
   "source": [
    "# Calculating the diff between to datetimes gives us a timedelta object\n",
    "time_until_next_year = next_year - now\n",
    "type(time_until_next_year)"
   ]
  },
  {
   "cell_type": "code",
   "execution_count": 36,
   "metadata": {},
   "outputs": [
    {
     "name": "stdout",
     "output_type": "stream",
     "text": [
      "str(time_until_next_year) = '51 days, 14:52:46.890424'\n",
      "repr(time_until_next_year) = 'datetime.timedelta(days=51, seconds=53566, microseconds=890424)'\n"
     ]
    }
   ],
   "source": [
    "print(f\"{str(time_until_next_year) = }\")\n",
    "print(f\"{repr(time_until_next_year) = }\")"
   ]
  },
  {
   "cell_type": "code",
   "execution_count": 44,
   "metadata": {},
   "outputs": [
    {
     "name": "stdout",
     "output_type": "stream",
     "text": [
      "51 days, 14:25:36.620985\n"
     ]
    }
   ],
   "source": [
    "print(next_year - datetime.now())"
   ]
  },
  {
   "cell_type": "code",
   "execution_count": 48,
   "metadata": {},
   "outputs": [
    {
     "name": "stdout",
     "output_type": "stream",
     "text": [
      "time_until_next_year.days = 51\n",
      "time_until_next_year.seconds = 53566\n",
      "time_until_next_year.microseconds = 890424\n",
      "time_until_next_year.total_seconds() = 4459966.890424\n"
     ]
    }
   ],
   "source": [
    "# timedelta parts:\n",
    "print(f\"{time_until_next_year.days = }\")\n",
    "print(f\"{time_until_next_year.seconds = }\")\n",
    "print(f\"{time_until_next_year.microseconds = }\")\n",
    "print(f\"{time_until_next_year.total_seconds() = }\")"
   ]
  },
  {
   "cell_type": "code",
   "execution_count": 54,
   "metadata": {},
   "outputs": [
    {
     "data": {
      "text/plain": [
       "datetime.timedelta(days=103, seconds=20733, microseconds=780848)"
      ]
     },
     "execution_count": 54,
     "metadata": {},
     "output_type": "execute_result"
    }
   ],
   "source": [
    "# Arithmetics can be applied on timedelta\n",
    "time_until_next_year * 2"
   ]
  },
  {
   "cell_type": "code",
   "execution_count": 58,
   "metadata": {},
   "outputs": [
    {
     "name": "stdout",
     "output_type": "stream",
     "text": [
      "2024-04-13 05:45:33.780848\n"
     ]
    }
   ],
   "source": [
    "# Adding (or subtracting) a timedelta to a datetime gives us a new datetime\n",
    "print(next_year + time_until_next_year * 2)"
   ]
  },
  {
   "cell_type": "code",
   "execution_count": 63,
   "metadata": {},
   "outputs": [
    {
     "name": "stdout",
     "output_type": "stream",
     "text": [
      "2023-11-03 09:43:18.396767\n"
     ]
    }
   ],
   "source": [
    "print(datetime.now() - timedelta(7))"
   ]
  },
  {
   "cell_type": "code",
   "execution_count": 64,
   "metadata": {},
   "outputs": [],
   "source": [
    "from dateutil.relativedelta import relativedelta "
   ]
  },
  {
   "cell_type": "code",
   "execution_count": 70,
   "metadata": {},
   "outputs": [
    {
     "name": "stdout",
     "output_type": "stream",
     "text": [
      "2023-11-24 09:46:52.835474\n"
     ]
    }
   ],
   "source": [
    "print(datetime.now() + relativedelta(weeks=2))"
   ]
  }
 ],
 "metadata": {
  "kernelspec": {
   "display_name": "Databehandling-AI23-toKGAHu0",
   "language": "python",
   "name": "python3"
  },
  "language_info": {
   "codemirror_mode": {
    "name": "ipython",
    "version": 3
   },
   "file_extension": ".py",
   "mimetype": "text/x-python",
   "name": "python",
   "nbconvert_exporter": "python",
   "pygments_lexer": "ipython3",
   "version": "3.11.5"
  }
 },
 "nbformat": 4,
 "nbformat_minor": 2
}
