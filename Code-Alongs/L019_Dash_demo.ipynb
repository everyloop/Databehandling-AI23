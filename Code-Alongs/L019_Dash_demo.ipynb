{
 "cells": [
  {
   "cell_type": "code",
   "execution_count": 12,
   "metadata": {},
   "outputs": [
    {
     "data": {
      "text/plain": [
       "array([1952, 1957, 1962, 1967, 1972, 1977, 1982, 1987, 1992, 1997, 2002,\n",
       "       2007], dtype=int64)"
      ]
     },
     "execution_count": 12,
     "metadata": {},
     "output_type": "execute_result"
    }
   ],
   "source": [
    "df[\"year\"].unique()"
   ]
  },
  {
   "cell_type": "code",
   "execution_count": 32,
   "metadata": {},
   "outputs": [
    {
     "name": "stdout",
     "output_type": "stream",
     "text": [
      "Dash app running on http://127.0.0.1:8050/\n"
     ]
    },
    {
     "name": "stdout",
     "output_type": "stream",
     "text": [
      "Life expectancy for 2007:\n"
     ]
    }
   ],
   "source": [
    "from dash import Dash, html, dcc, callback, Output, Input\n",
    "import plotly_express as px\n",
    "import pandas as pd\n",
    "\n",
    "df = px.data.gapminder()\n",
    "\n",
    "app = Dash(__name__)\n",
    "\n",
    "# my_H1 = html.H1(children=\"My awesome dash application\") \n",
    "# my_H2 = html.H2(id=\"my-H2\", children=\"More info ...\")\n",
    "# my_dropdown = dcc.Dropdown(id=\"my-dropdown\", options=df[\"year\"].unique(), value=2007, style={\"width\": \"200px\"})\n",
    "# my_graph = dcc.Graph(id=\"my-graph\", figure={})\n",
    "# my_button = html.Button(\"Click here!\", n_clicks=0)\n",
    "\n",
    "# app.layout = html.Div(children=[my_H1, my_H2, my_dropdown, my_graph, my_button])\n",
    "\n",
    "app.layout = html.Div([\n",
    "    html.H1(id=\"my-H1\", children=\"My awesome dash application\"),\n",
    "    html.H2(id=\"my-H2\", children=\"More info ...\"),\n",
    "    dcc.Dropdown(id=\"my-dropdown\", options=df[\"year\"].unique(), value=2007, style={\"width\": \"200px\"}),\n",
    "    dcc.Graph(id=\"my-graph\", figure={}),\n",
    "    html.Button(id=\"my-button\", children=\"Click here!\", n_clicks=0)\n",
    "])\n",
    "\n",
    "@callback(\n",
    "    Output(\"my-H2\", \"children\"),\n",
    "    Output(\"my-graph\", \"figure\"),\n",
    "    Input(\"my-dropdown\", \"value\")\n",
    ")\n",
    "def select_year(year):\n",
    "    text = f\"Life expectancy for {year}:\"\n",
    "    print(text)\n",
    "    figure = px.strip(df.query(\"year==@year\"), x=\"lifeExp\", color=\"continent\")\n",
    "    return text, figure\n",
    "\n",
    "@callback(\n",
    "    Output(\"my-H1\", \"children\"),\n",
    "    Input(\"my-button\", \"n_clicks\")\n",
    ")\n",
    "def button_clicked(n):\n",
    "    #return f\"Button clicked {n} times.\"\n",
    "    return f'Welcome to my {\"awesome\" if n % 2 == 0 else \"cool\"} dash app.'\n",
    "\n",
    "app.run(debug=True, jupyter_mode=\"external\")"
   ]
  }
 ],
 "metadata": {
  "kernelspec": {
   "display_name": "Databehandling-AI23-toKGAHu0",
   "language": "python",
   "name": "python3"
  },
  "language_info": {
   "codemirror_mode": {
    "name": "ipython",
    "version": 3
   },
   "file_extension": ".py",
   "mimetype": "text/x-python",
   "name": "python",
   "nbconvert_exporter": "python",
   "pygments_lexer": "ipython3",
   "version": "3.11.5"
  }
 },
 "nbformat": 4,
 "nbformat_minor": 2
}
