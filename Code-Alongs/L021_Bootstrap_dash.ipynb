{
 "cells": [
  {
   "cell_type": "code",
   "execution_count": 36,
   "metadata": {},
   "outputs": [
    {
     "name": "stdout",
     "output_type": "stream",
     "text": [
      "Dash app running on http://127.0.0.1:8050/\n"
     ]
    }
   ],
   "source": [
    "from dash import Dash, html, dcc, callback, Output, Input\n",
    "import dash_bootstrap_components as dbc\n",
    "\n",
    "app = Dash(__name__, external_stylesheets=[dbc.themes.CYBORG])\n",
    "\n",
    "app.layout = dbc.Container([\n",
    "#    \"Hello bootstrap!\",\n",
    "#    dbc.Button(\"Click here!\", color=\"primary\", className=\"ms-2 mt-2 text-uppercase\")\n",
    "\n",
    "    dbc.Row([\n",
    "        dbc.Col(\n",
    "            children=dbc.Input(type=\"text\", placeholder=\"First name:\"),\n",
    "            className=\"mt-2\",\n",
    "            width={\"size\": 3, \"offset\": 0}\n",
    "        ),\n",
    "        dbc.Col(\n",
    "            children=[\n",
    "                dbc.Input(type=\"text\", placeholder=\"Last name:\", className=\"mt-2\"),\n",
    "                dbc.Input(type=\"text\", placeholder=\"Last name:\", className=\"mt-2\"),\n",
    "                dbc.Input(type=\"text\", placeholder=\"Last name:\", className=\"mt-2\"),\n",
    "            ],\n",
    "            width={\"size\": 3, \"offset\": 0}\n",
    "        ),\n",
    "        dbc.Col(\n",
    "            children=dbc.Input(type=\"text\", placeholder=\"Email:\"),\n",
    "            className=\"mt-2\",\n",
    "            width={\"size\": 3, \"offset\": 0}\n",
    "        ),\n",
    "    ], justify=\"around\"),\n",
    "    \n",
    "    dbc.Row([\n",
    "        dbc.Col(\n",
    "            children=dbc.Input(type=\"text\", placeholder=\"First name:\"),\n",
    "            className=\"mt-2\",\n",
    "            width={\"size\": 5, \"offset\": 0}\n",
    "        ),\n",
    "        dbc.Col(\n",
    "            children=dbc.Input(type=\"text\", placeholder=\"Last name:\"),\n",
    "            className=\"mt-2\",\n",
    "            width={\"size\": 5, \"offset\": 0}\n",
    "        ),\n",
    "    ], justify=\"between\")\n",
    "\n",
    "], fluid=True)\n",
    "\n",
    "app.run(debug=True, jupyter_mode=\"external\")"
   ]
  }
 ],
 "metadata": {
  "kernelspec": {
   "display_name": "Databehandling-AI23-toKGAHu0",
   "language": "python",
   "name": "python3"
  },
  "language_info": {
   "codemirror_mode": {
    "name": "ipython",
    "version": 3
   },
   "file_extension": ".py",
   "mimetype": "text/x-python",
   "name": "python",
   "nbconvert_exporter": "python",
   "pygments_lexer": "ipython3",
   "version": "3.11.5"
  }
 },
 "nbformat": 4,
 "nbformat_minor": 2
}
