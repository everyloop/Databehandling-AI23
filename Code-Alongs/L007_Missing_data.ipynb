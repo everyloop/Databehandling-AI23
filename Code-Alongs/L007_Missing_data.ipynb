{
 "cells": [
  {
   "cell_type": "code",
   "execution_count": 1,
   "metadata": {},
   "outputs": [],
   "source": [
    "import pandas as pd\n",
    "import numpy as np\n",
    "import seaborn as sns"
   ]
  },
  {
   "cell_type": "markdown",
   "metadata": {},
   "source": [
    "### Missing data\n",
    "Missing data occurs when values are simply absent or contain NaN (not a number) for any feature (column) in a given dataset. This will cause issues with many machine learning algorithms.\n",
    "\n",
    "**Missing data can negatively impact:**\n",
    "- Data visualization\n",
    "- Arithemetic computations\n",
    "- Machine learning algorithms\n",
    "\n",
    "**Common methods to deal with missing data:**\n",
    "- Remove rows or columns containing missing data\n",
    "- Impute with mean or median\n",
    "- Impute with mode (most frequently occuring feature)\n",
    "- Impute with forward or backward fill\n",
    "- Interpolate data between two points\n",
    "\n",
    "*Note: Domain knowledge is often neeeded to decide how to fill nulls.*"
   ]
  }
 ],
 "metadata": {
  "kernelspec": {
   "display_name": "Databehandling-AI23-toKGAHu0",
   "language": "python",
   "name": "python3"
  },
  "language_info": {
   "codemirror_mode": {
    "name": "ipython",
    "version": 3
   },
   "file_extension": ".py",
   "mimetype": "text/x-python",
   "name": "python",
   "nbconvert_exporter": "python",
   "pygments_lexer": "ipython3",
   "version": "3.11.5"
  }
 },
 "nbformat": 4,
 "nbformat_minor": 2
}
