{
 "cells": [
  {
   "cell_type": "code",
   "execution_count": 44,
   "metadata": {},
   "outputs": [],
   "source": [
    "from dash import Dash, html, dcc, callback, Output, Input\n",
    "from dash_bootstrap_templates import load_figure_template\n",
    "import dash_bootstrap_components as dbc\n",
    "from dash import dash_table\n",
    "import plotly_express as px\n",
    "import pandas as pd"
   ]
  },
  {
   "cell_type": "code",
   "execution_count": 6,
   "metadata": {},
   "outputs": [
    {
     "data": {
      "text/html": [
       "<div>\n",
       "<style scoped>\n",
       "    .dataframe tbody tr th:only-of-type {\n",
       "        vertical-align: middle;\n",
       "    }\n",
       "\n",
       "    .dataframe tbody tr th {\n",
       "        vertical-align: top;\n",
       "    }\n",
       "\n",
       "    .dataframe thead th {\n",
       "        text-align: right;\n",
       "    }\n",
       "</style>\n",
       "<table border=\"1\" class=\"dataframe\">\n",
       "  <thead>\n",
       "    <tr style=\"text-align: right;\">\n",
       "      <th></th>\n",
       "      <th>Symbols</th>\n",
       "      <th>Close</th>\n",
       "      <th>High</th>\n",
       "      <th>Low</th>\n",
       "      <th>Open</th>\n",
       "      <th>Volume</th>\n",
       "    </tr>\n",
       "    <tr>\n",
       "      <th>Date</th>\n",
       "      <th></th>\n",
       "      <th></th>\n",
       "      <th></th>\n",
       "      <th></th>\n",
       "      <th></th>\n",
       "      <th></th>\n",
       "    </tr>\n",
       "  </thead>\n",
       "  <tbody>\n",
       "    <tr>\n",
       "      <th>2023-01-03</th>\n",
       "      <td>AAPL</td>\n",
       "      <td>125.07</td>\n",
       "      <td>130.90</td>\n",
       "      <td>124.17</td>\n",
       "      <td>130.28</td>\n",
       "      <td>112117471</td>\n",
       "    </tr>\n",
       "    <tr>\n",
       "      <th>2023-01-03</th>\n",
       "      <td>MSFT</td>\n",
       "      <td>239.58</td>\n",
       "      <td>245.75</td>\n",
       "      <td>237.40</td>\n",
       "      <td>243.08</td>\n",
       "      <td>25740036</td>\n",
       "    </tr>\n",
       "  </tbody>\n",
       "</table>\n",
       "</div>"
      ],
      "text/plain": [
       "           Symbols   Close    High     Low    Open     Volume\n",
       "Date                                                         \n",
       "2023-01-03    AAPL  125.07  130.90  124.17  130.28  112117471\n",
       "2023-01-03    MSFT  239.58  245.75  237.40  243.08   25740036"
      ]
     },
     "execution_count": 6,
     "metadata": {},
     "output_type": "execute_result"
    }
   ],
   "source": [
    "stocks = pd.read_csv(\"../Data/stocks.csv\", parse_dates=[\"Date\"], index_col=\"Date\")\n",
    "stocks.head(2)"
   ]
  },
  {
   "cell_type": "code",
   "execution_count": 52,
   "metadata": {},
   "outputs": [
    {
     "name": "stdout",
     "output_type": "stream",
     "text": [
      "Dash app running on http://127.0.0.1:8050/\n"
     ]
    }
   ],
   "source": [
    "load_figure_template(\"flatly\")\n",
    "\n",
    "app = Dash(\n",
    "    __name__, \n",
    "    external_stylesheets=[dbc.themes.FLATLY],\n",
    "    meta_tags=[{\"name\": \"viewport\", \"content\": \"width=device-width, initial-scale=1\"}]\n",
    ")\n",
    "\n",
    "app.layout = dbc.Container([\n",
    "    dbc.Row([\n",
    "        dbc.Col([\n",
    "            html.H1(\"Stock Market Dashboard\", className='text-center text-primary mx-3')\n",
    "        ], width=12)\n",
    "    ]),\n",
    "\n",
    "    dbc.Row([\n",
    "        dbc.Col([\n",
    "            dcc.Dropdown(\n",
    "                id=\"single_dropdown\", multi=False, searchable=False, className='mb-2', value='MSFT',\n",
    "                options=[stock for stock in stocks[\"Symbols\"].unique()],\n",
    "                style={'color': '#333'}\n",
    "            ),\n",
    "            dcc.Graph(id=\"volume_graph\", config={\"staticPlot\": True},\n",
    "                figure={})\n",
    "        ], xs=12, sm=11, md=10, lg=5),\n",
    "\n",
    "        dbc.Col([\n",
    "            dcc.Dropdown(\n",
    "                id=\"multi_dropdown\", multi=True, searchable=False, className='mb-2',\n",
    "                options=[stock for stock in stocks[\"Symbols\"].unique()],\n",
    "                style={'color': '#333'}\n",
    "            ),\n",
    "            dcc.Graph(id=\"closing_graph\", config={\"staticPlot\": True},\n",
    "                figure={})\n",
    "        ], xs=12, sm=11, md=10, lg=5)\n",
    "    ], justify=\"evenly\"),\n",
    "\n",
    "    dbc.Row([\n",
    "        dbc.Col([\n",
    "            dash_table.DataTable(stocks.query(\"Symbols=='MSFT'\").to_dict('records'), page_size=15)\n",
    "        ], width=10)\n",
    "    ], justify='center'),\n",
    "\n",
    "\n",
    "], fluid=True)\n",
    "\n",
    "@callback(\n",
    "    Output(\"volume_graph\", \"figure\"),\n",
    "    Input(\"single_dropdown\", \"value\")\n",
    ")\n",
    "def update_volume_graph(symbol):\n",
    "    df = stocks.query(\"Symbols==@symbol\")\n",
    "    return px.line(df, x=df.index, y=\"Volume\")\n",
    "\n",
    "@callback(\n",
    "    Output(\"closing_graph\", \"figure\"),\n",
    "    Input(\"multi_dropdown\", \"value\")\n",
    ")\n",
    "def update_closing_graph(symbols):\n",
    "    if symbols is None: symbols = []\n",
    "    df = stocks[stocks[\"Symbols\"].isin(symbols)]\n",
    "    return px.line(df, x=df.index, y=\"Close\", color=\"Symbols\")\n",
    "\n",
    "\n",
    "app.run(debug=True, jupyter_mode='external')\n"
   ]
  }
 ],
 "metadata": {
  "kernelspec": {
   "display_name": "Databehandling-AI23-toKGAHu0",
   "language": "python",
   "name": "python3"
  },
  "language_info": {
   "codemirror_mode": {
    "name": "ipython",
    "version": 3
   },
   "file_extension": ".py",
   "mimetype": "text/x-python",
   "name": "python",
   "nbconvert_exporter": "python",
   "pygments_lexer": "ipython3",
   "version": "3.11.5"
  }
 },
 "nbformat": 4,
 "nbformat_minor": 2
}
